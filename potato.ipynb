{
 "cells": [
  {
   "cell_type": "code",
   "execution_count": 2,
   "id": "0fc5c459",
   "metadata": {},
   "outputs": [],
   "source": [
    "import tensorflow as tf\n",
    "from tensorflow.keras import models,layers\n",
    "\n",
    "IMAGE_SIZE=256\n",
    "BATCH_SIZE=32\n"
   ]
  },
  {
   "cell_type": "code",
   "execution_count": 3,
   "id": "a99a68ec",
   "metadata": {},
   "outputs": [
    {
     "name": "stdout",
     "output_type": "stream",
     "text": [
      "Found 2152 files belonging to 3 classes.\n"
     ]
    }
   ],
   "source": [
    "dataset=tf.keras.preprocessing.image_dataset_from_directory(\n",
    "    \"dataset\",\n",
    "    shuffle=True,\n",
    "    image_size=(IMAGE_SIZE,IMAGE_SIZE),\n",
    "    batch_size=BATCH_SIZE\n",
    ")\n"
   ]
  },
  {
   "cell_type": "code",
   "execution_count": 3,
   "id": "b1d7166f",
   "metadata": {},
   "outputs": [
    {
     "data": {
      "text/plain": [
       "['Potato___Early_blight', 'Potato___Late_blight', 'Potato___healthy']"
      ]
     },
     "execution_count": 3,
     "metadata": {},
     "output_type": "execute_result"
    }
   ],
   "source": [
    "class_name=dataset.class_names\n",
    "class_name"
   ]
  },
  {
   "cell_type": "code",
   "execution_count": 4,
   "id": "a66567b7",
   "metadata": {},
   "outputs": [],
   "source": [
    "# for image_batch, label_batch in dataset.take(1):\n",
    "\n",
    "# test and validation split\n",
    "# 80% training , 10% test 10%  \n"
   ]
  },
  {
   "cell_type": "code",
   "execution_count": 5,
   "id": "b1e5aa58",
   "metadata": {},
   "outputs": [
    {
     "data": {
      "text/plain": [
       "54.400000000000006"
      ]
     },
     "execution_count": 5,
     "metadata": {},
     "output_type": "execute_result"
    }
   ],
   "source": [
    "train_size = 0.8\n",
    "len(dataset)*train_size"
   ]
  },
  {
   "cell_type": "code",
   "execution_count": 6,
   "id": "792fe4c9",
   "metadata": {},
   "outputs": [
    {
     "data": {
      "text/plain": [
       "54"
      ]
     },
     "execution_count": 6,
     "metadata": {},
     "output_type": "execute_result"
    }
   ],
   "source": [
    "train_ds = dataset.take(54)\n",
    "len(train_ds)"
   ]
  },
  {
   "cell_type": "code",
   "execution_count": 7,
   "id": "8b7e03e0",
   "metadata": {},
   "outputs": [
    {
     "data": {
      "text/plain": [
       "14"
      ]
     },
     "execution_count": 7,
     "metadata": {},
     "output_type": "execute_result"
    }
   ],
   "source": [
    "test_ds = dataset.skip(54)\n",
    "len(test_ds)"
   ]
  },
  {
   "cell_type": "code",
   "execution_count": 8,
   "id": "e7484cc3",
   "metadata": {},
   "outputs": [
    {
     "data": {
      "text/plain": [
       "6.800000000000001"
      ]
     },
     "execution_count": 8,
     "metadata": {},
     "output_type": "execute_result"
    }
   ],
   "source": [
    "val_size = 0.1\n",
    "len(dataset)*val_size"
   ]
  },
  {
   "cell_type": "code",
   "execution_count": 9,
   "id": "5b3bce91",
   "metadata": {},
   "outputs": [
    {
     "data": {
      "text/plain": [
       "6"
      ]
     },
     "execution_count": 9,
     "metadata": {},
     "output_type": "execute_result"
    }
   ],
   "source": [
    "val_ds = test_ds.take(6)\n",
    "len(val_ds)"
   ]
  },
  {
   "cell_type": "code",
   "execution_count": 10,
   "id": "48335da7",
   "metadata": {},
   "outputs": [
    {
     "data": {
      "text/plain": [
       "8"
      ]
     },
     "execution_count": 10,
     "metadata": {},
     "output_type": "execute_result"
    }
   ],
   "source": [
    "test_ds=test_ds.skip(6)\n",
    "len(test_ds)"
   ]
  },
  {
   "cell_type": "code",
   "execution_count": 12,
   "id": "f7731412",
   "metadata": {},
   "outputs": [],
   "source": [
    "def get_dataset_partitions(ds,train_split=0.8,val_split=0.1,test_split=0.1,shuffle = True , shuffle_size=1000):\n",
    "    ds_size = len(ds)\n",
    "    if shuffle:\n",
    "        ds.shuffle(shuffle_size,seed=12)\n",
    "    #sizes\n",
    "    train_size = int(train_split*ds_size)\n",
    "    val_size=int(val_split*ds_size)\n",
    "    #datasets\n",
    "    train_ds=dataset.take(train_size)\n",
    "    val_ds=ds.skip(train_size).take(val_size)\n",
    "    test_ds=ds.skip(train_size).skip(val_size)\n",
    "    \n",
    "    return train_ds , val_ds , test_ds\n"
   ]
  },
  {
   "cell_type": "code",
   "execution_count": 13,
   "id": "22e9dc29",
   "metadata": {},
   "outputs": [],
   "source": [
    "train_ds,val_ds,test_ds = get_dataset_partitions(dataset)"
   ]
  },
  {
   "cell_type": "code",
   "execution_count": 14,
   "id": "302562cf",
   "metadata": {},
   "outputs": [
    {
     "data": {
      "text/plain": [
       "54"
      ]
     },
     "execution_count": 14,
     "metadata": {},
     "output_type": "execute_result"
    }
   ],
   "source": [
    "len(train_ds)"
   ]
  },
  {
   "cell_type": "code",
   "execution_count": 15,
   "id": "4262ee9d",
   "metadata": {},
   "outputs": [
    {
     "data": {
      "text/plain": [
       "6"
      ]
     },
     "execution_count": 15,
     "metadata": {},
     "output_type": "execute_result"
    }
   ],
   "source": [
    "len(val_ds)"
   ]
  },
  {
   "cell_type": "code",
   "execution_count": 16,
   "id": "6ece0c83",
   "metadata": {},
   "outputs": [
    {
     "data": {
      "text/plain": [
       "8"
      ]
     },
     "execution_count": 16,
     "metadata": {},
     "output_type": "execute_result"
    }
   ],
   "source": [
    "len(test_ds)"
   ]
  },
  {
   "cell_type": "code",
   "execution_count": 17,
   "id": "b8f33997",
   "metadata": {},
   "outputs": [],
   "source": [
    "train_ds=train_ds.cache().shuffle(1000).prefetch(buffer_size=tf.data.AUTOTUNE)\n",
    "val_ds=val_ds=train_ds.cache().shuffle(1000).prefetch(buffer_size=tf.data.AUTOTUNE)\n",
    "test_ds=test_ds=train_ds.cache().shuffle(1000).prefetch(buffer_size=tf.data.AUTOTUNE)"
   ]
  },
  {
   "cell_type": "markdown",
   "id": "bda9c0d3",
   "metadata": {},
   "source": [
    "Resize and rescale"
   ]
  },
  {
   "cell_type": "code",
   "execution_count": 18,
   "id": "df48405a",
   "metadata": {},
   "outputs": [],
   "source": [
    "resize_and_rescale=tf.keras.Sequential(\n",
    "    [\n",
    "        layers.experimental.preprocessing.Resizing(IMAGE_SIZE,IMAGE_SIZE),\n",
    "        layers.experimental.preprocessing.Rescaling(0.1/255)\n",
    "    ]\n",
    ")"
   ]
  },
  {
   "cell_type": "markdown",
   "id": "4c8994f8",
   "metadata": {},
   "source": [
    "Data Augmentation"
   ]
  },
  {
   "cell_type": "code",
   "execution_count": 19,
   "id": "16b250c7",
   "metadata": {},
   "outputs": [],
   "source": [
    "data_augmentation = tf.keras.Sequential([\n",
    "    layers.experimental.preprocessing.RandomFlip(\"horizontal_and_vertical\"),\n",
    "    layers.experimental.preprocessing.RandomRotation(0.2)\n",
    "])"
   ]
  },
  {
   "cell_type": "code",
   "execution_count": 20,
   "id": "9883978a",
   "metadata": {},
   "outputs": [],
   "source": [
    "input_shape=(BATCH_SIZE,IMAGE_SIZE,IMAGE_SIZE,3)\n",
    "model=models.Sequential([\n",
    "    resize_and_rescale,\n",
    "    data_augmentation,\n",
    "    layers.Conv2D(32,(3,3),activation='relu',input_shape=input_shape),\n",
    "    layers.MaxPool2D((2,2)),\n",
    "    layers.Conv2D(64,kernel_size=(3,3),activation='relu'),\n",
    "    layers.MaxPool2D((2,2)),\n",
    "    layers.Conv2D(64,kernel_size=(3,3),activation='relu'),\n",
    "    layers.MaxPool2D((2,2)),\n",
    "    layers.Conv2D(64,(3,3),activation='relu'),\n",
    "    layers.MaxPool2D((2,2)),\n",
    "    layers.Conv2D(64,(3,3),activation='relu'),\n",
    "    layers.MaxPool2D((2,2)),\n",
    "    layers.Conv2D(64,(3,3),activation='relu'),\n",
    "    layers.MaxPool2D((2,2)),\n",
    "    layers.Flatten(),\n",
    "    layers.Dense(64,activation='relu'),\n",
    "    layers.Dense(3,activation='softmax')\n",
    "])\n",
    "model.build(input_shape=input_shape)"
   ]
  },
  {
   "cell_type": "code",
   "execution_count": 21,
   "id": "4e0f038a",
   "metadata": {},
   "outputs": [
    {
     "name": "stdout",
     "output_type": "stream",
     "text": [
      "Model: \"sequential_2\"\n",
      "_________________________________________________________________\n",
      "Layer (type)                 Output Shape              Param #   \n",
      "=================================================================\n",
      "sequential (Sequential)      (32, 256, 256, 3)         0         \n",
      "_________________________________________________________________\n",
      "sequential_1 (Sequential)    (32, 256, 256, 3)         0         \n",
      "_________________________________________________________________\n",
      "conv2d (Conv2D)              (32, 254, 254, 32)        896       \n",
      "_________________________________________________________________\n",
      "max_pooling2d (MaxPooling2D) (32, 127, 127, 32)        0         \n",
      "_________________________________________________________________\n",
      "conv2d_1 (Conv2D)            (32, 125, 125, 64)        18496     \n",
      "_________________________________________________________________\n",
      "max_pooling2d_1 (MaxPooling2 (32, 62, 62, 64)          0         \n",
      "_________________________________________________________________\n",
      "conv2d_2 (Conv2D)            (32, 60, 60, 64)          36928     \n",
      "_________________________________________________________________\n",
      "max_pooling2d_2 (MaxPooling2 (32, 30, 30, 64)          0         \n",
      "_________________________________________________________________\n",
      "conv2d_3 (Conv2D)            (32, 28, 28, 64)          36928     \n",
      "_________________________________________________________________\n",
      "max_pooling2d_3 (MaxPooling2 (32, 14, 14, 64)          0         \n",
      "_________________________________________________________________\n",
      "conv2d_4 (Conv2D)            (32, 12, 12, 64)          36928     \n",
      "_________________________________________________________________\n",
      "max_pooling2d_4 (MaxPooling2 (32, 6, 6, 64)            0         \n",
      "_________________________________________________________________\n",
      "conv2d_5 (Conv2D)            (32, 4, 4, 64)            36928     \n",
      "_________________________________________________________________\n",
      "max_pooling2d_5 (MaxPooling2 (32, 2, 2, 64)            0         \n",
      "_________________________________________________________________\n",
      "flatten (Flatten)            (32, 256)                 0         \n",
      "_________________________________________________________________\n",
      "dense (Dense)                (32, 64)                  16448     \n",
      "_________________________________________________________________\n",
      "dense_1 (Dense)              (32, 3)                   195       \n",
      "=================================================================\n",
      "Total params: 183,747\n",
      "Trainable params: 183,747\n",
      "Non-trainable params: 0\n",
      "_________________________________________________________________\n"
     ]
    }
   ],
   "source": [
    "model.summary()"
   ]
  },
  {
   "cell_type": "code",
   "execution_count": 22,
   "id": "81cca1ef",
   "metadata": {},
   "outputs": [],
   "source": [
    "model.compile(\n",
    "    optimizer='adam',\n",
    "    loss=tf.keras.losses.SparseCategoricalCrossentropy(from_logits=False),\n",
    "    metrics=['accuracy']\n",
    "    \n",
    ")"
   ]
  },
  {
   "cell_type": "code",
   "execution_count": 23,
   "id": "870b2667",
   "metadata": {},
   "outputs": [
    {
     "name": "stdout",
     "output_type": "stream",
     "text": [
      "Epoch 1/50\n",
      "54/54 [==============================] - 164s 1s/step - loss: 0.9168 - accuracy: 0.4797 - val_loss: 0.8917 - val_accuracy: 0.6163\n",
      "Epoch 2/50\n",
      "54/54 [==============================] - 58s 1s/step - loss: 0.7614 - accuracy: 0.6806 - val_loss: 0.6548 - val_accuracy: 0.7147\n",
      "Epoch 3/50\n",
      "54/54 [==============================] - 58s 1s/step - loss: 0.5967 - accuracy: 0.7726 - val_loss: 0.4973 - val_accuracy: 0.8275\n",
      "Epoch 4/50\n",
      "54/54 [==============================] - 58s 1s/step - loss: 0.4904 - accuracy: 0.8137 - val_loss: 0.4943 - val_accuracy: 0.8073\n",
      "Epoch 5/50\n",
      "54/54 [==============================] - 58s 1s/step - loss: 0.4599 - accuracy: 0.8194 - val_loss: 0.4701 - val_accuracy: 0.8137\n",
      "Epoch 6/50\n",
      "54/54 [==============================] - 58s 1s/step - loss: 0.4378 - accuracy: 0.8299 - val_loss: 0.6150 - val_accuracy: 0.7795\n",
      "Epoch 7/50\n",
      "54/54 [==============================] - 58s 1s/step - loss: 0.3925 - accuracy: 0.8466 - val_loss: 0.4742 - val_accuracy: 0.7662\n",
      "Epoch 8/50\n",
      "54/54 [==============================] - 58s 1s/step - loss: 0.3755 - accuracy: 0.8530 - val_loss: 0.3188 - val_accuracy: 0.8675\n",
      "Epoch 9/50\n",
      "54/54 [==============================] - 58s 1s/step - loss: 0.2851 - accuracy: 0.8877 - val_loss: 0.4196 - val_accuracy: 0.8420\n",
      "Epoch 10/50\n",
      "54/54 [==============================] - 58s 1s/step - loss: 0.2856 - accuracy: 0.8877 - val_loss: 0.2337 - val_accuracy: 0.9120\n",
      "Epoch 11/50\n",
      "54/54 [==============================] - 59s 1s/step - loss: 0.2417 - accuracy: 0.9022 - val_loss: 0.2470 - val_accuracy: 0.8999\n",
      "Epoch 12/50\n",
      "54/54 [==============================] - 59s 1s/step - loss: 0.2314 - accuracy: 0.9109 - val_loss: 0.1862 - val_accuracy: 0.9219\n",
      "Epoch 13/50\n",
      "54/54 [==============================] - 59s 1s/step - loss: 0.1921 - accuracy: 0.9277 - val_loss: 0.1904 - val_accuracy: 0.9132\n",
      "Epoch 14/50\n",
      "54/54 [==============================] - 59s 1s/step - loss: 0.1655 - accuracy: 0.9381 - val_loss: 0.5845 - val_accuracy: 0.7205\n",
      "Epoch 15/50\n",
      "54/54 [==============================] - 59s 1s/step - loss: 0.1787 - accuracy: 0.9323 - val_loss: 0.1732 - val_accuracy: 0.9300\n",
      "Epoch 16/50\n",
      "54/54 [==============================] - 59s 1s/step - loss: 0.1246 - accuracy: 0.9520 - val_loss: 0.1584 - val_accuracy: 0.9363\n",
      "Epoch 17/50\n",
      "54/54 [==============================] - 59s 1s/step - loss: 0.1424 - accuracy: 0.9514 - val_loss: 0.1049 - val_accuracy: 0.9583\n",
      "Epoch 18/50\n",
      "54/54 [==============================] - 59s 1s/step - loss: 0.1816 - accuracy: 0.9323 - val_loss: 0.2768 - val_accuracy: 0.9028\n",
      "Epoch 19/50\n",
      "54/54 [==============================] - 59s 1s/step - loss: 0.1237 - accuracy: 0.9525 - val_loss: 0.1086 - val_accuracy: 0.9606\n",
      "Epoch 20/50\n",
      "54/54 [==============================] - 59s 1s/step - loss: 0.0927 - accuracy: 0.9653 - val_loss: 0.2073 - val_accuracy: 0.9294\n",
      "Epoch 21/50\n",
      "54/54 [==============================] - 58s 1s/step - loss: 0.0999 - accuracy: 0.9647 - val_loss: 0.1134 - val_accuracy: 0.9554\n",
      "Epoch 22/50\n",
      "54/54 [==============================] - 59s 1s/step - loss: 0.0818 - accuracy: 0.9693 - val_loss: 0.0728 - val_accuracy: 0.9728\n",
      "Epoch 23/50\n",
      "54/54 [==============================] - 59s 1s/step - loss: 0.1222 - accuracy: 0.9520 - val_loss: 0.1107 - val_accuracy: 0.9537\n",
      "Epoch 24/50\n",
      "54/54 [==============================] - 59s 1s/step - loss: 0.0905 - accuracy: 0.9705 - val_loss: 0.1038 - val_accuracy: 0.9635\n",
      "Epoch 25/50\n",
      "54/54 [==============================] - 59s 1s/step - loss: 0.0803 - accuracy: 0.9699 - val_loss: 0.0780 - val_accuracy: 0.9716\n",
      "Epoch 26/50\n",
      "54/54 [==============================] - 59s 1s/step - loss: 0.1281 - accuracy: 0.9491 - val_loss: 0.0705 - val_accuracy: 0.9745\n",
      "Epoch 27/50\n",
      "54/54 [==============================] - 59s 1s/step - loss: 0.1022 - accuracy: 0.9653 - val_loss: 0.1175 - val_accuracy: 0.9572\n",
      "Epoch 28/50\n",
      "54/54 [==============================] - 59s 1s/step - loss: 0.0933 - accuracy: 0.9624 - val_loss: 0.1278 - val_accuracy: 0.9497\n",
      "Epoch 29/50\n",
      "54/54 [==============================] - 59s 1s/step - loss: 0.0570 - accuracy: 0.9780 - val_loss: 0.0574 - val_accuracy: 0.9797\n",
      "Epoch 30/50\n",
      "54/54 [==============================] - 59s 1s/step - loss: 0.0695 - accuracy: 0.9722 - val_loss: 0.0703 - val_accuracy: 0.9728\n",
      "Epoch 31/50\n",
      "54/54 [==============================] - 59s 1s/step - loss: 0.0655 - accuracy: 0.9757 - val_loss: 0.2237 - val_accuracy: 0.9277\n",
      "Epoch 32/50\n",
      "54/54 [==============================] - 59s 1s/step - loss: 0.0796 - accuracy: 0.9688 - val_loss: 0.0657 - val_accuracy: 0.9769\n",
      "Epoch 33/50\n",
      "54/54 [==============================] - 59s 1s/step - loss: 0.0740 - accuracy: 0.9722 - val_loss: 0.0658 - val_accuracy: 0.9740\n",
      "Epoch 34/50\n",
      "54/54 [==============================] - 59s 1s/step - loss: 0.0560 - accuracy: 0.9797 - val_loss: 0.2911 - val_accuracy: 0.9196\n",
      "Epoch 35/50\n",
      "54/54 [==============================] - 59s 1s/step - loss: 0.0660 - accuracy: 0.9740 - val_loss: 0.0532 - val_accuracy: 0.9780\n",
      "Epoch 36/50\n",
      "54/54 [==============================] - 59s 1s/step - loss: 0.0510 - accuracy: 0.9803 - val_loss: 0.0616 - val_accuracy: 0.9769\n",
      "Epoch 37/50\n",
      "54/54 [==============================] - 59s 1s/step - loss: 0.0516 - accuracy: 0.9809 - val_loss: 0.0441 - val_accuracy: 0.9850\n",
      "Epoch 38/50\n",
      "54/54 [==============================] - 59s 1s/step - loss: 0.0508 - accuracy: 0.9821 - val_loss: 0.0708 - val_accuracy: 0.9734\n",
      "Epoch 39/50\n",
      "54/54 [==============================] - 59s 1s/step - loss: 0.0524 - accuracy: 0.9786 - val_loss: 0.0502 - val_accuracy: 0.9792\n",
      "Epoch 40/50\n",
      "54/54 [==============================] - 59s 1s/step - loss: 0.0513 - accuracy: 0.9792 - val_loss: 0.1302 - val_accuracy: 0.9514\n",
      "Epoch 41/50\n",
      "54/54 [==============================] - 59s 1s/step - loss: 0.0381 - accuracy: 0.9850 - val_loss: 0.0553 - val_accuracy: 0.9803\n",
      "Epoch 42/50\n",
      "54/54 [==============================] - 59s 1s/step - loss: 0.0499 - accuracy: 0.9809 - val_loss: 0.0680 - val_accuracy: 0.9734\n",
      "Epoch 43/50\n",
      "54/54 [==============================] - 59s 1s/step - loss: 0.1119 - accuracy: 0.9595 - val_loss: 0.0515 - val_accuracy: 0.9797\n",
      "Epoch 44/50\n",
      "54/54 [==============================] - 59s 1s/step - loss: 0.0552 - accuracy: 0.9797 - val_loss: 0.0534 - val_accuracy: 0.9815\n",
      "Epoch 45/50\n",
      "54/54 [==============================] - 59s 1s/step - loss: 0.0505 - accuracy: 0.9821 - val_loss: 0.0868 - val_accuracy: 0.9693\n",
      "Epoch 46/50\n",
      "54/54 [==============================] - 59s 1s/step - loss: 0.0505 - accuracy: 0.9803 - val_loss: 0.0292 - val_accuracy: 0.9890\n",
      "Epoch 47/50\n",
      "54/54 [==============================] - 59s 1s/step - loss: 0.0300 - accuracy: 0.9896 - val_loss: 0.0899 - val_accuracy: 0.9670\n",
      "Epoch 48/50\n",
      "54/54 [==============================] - 59s 1s/step - loss: 0.0443 - accuracy: 0.9838 - val_loss: 0.1093 - val_accuracy: 0.9595\n",
      "Epoch 49/50\n",
      "54/54 [==============================] - 59s 1s/step - loss: 0.0532 - accuracy: 0.9809 - val_loss: 0.0853 - val_accuracy: 0.9682\n",
      "Epoch 50/50\n",
      "54/54 [==============================] - 59s 1s/step - loss: 0.0709 - accuracy: 0.9728 - val_loss: 0.0725 - val_accuracy: 0.9693\n"
     ]
    },
    {
     "data": {
      "text/plain": [
       "<keras.callbacks.History at 0xf015f6d90>"
      ]
     },
     "execution_count": 23,
     "metadata": {},
     "output_type": "execute_result"
    }
   ],
   "source": [
    "model.fit(train_ds,epochs=50,batch_size=BATCH_SIZE,verbose=1,validation_data=val_ds)"
   ]
  },
  {
   "cell_type": "code",
   "execution_count": 25,
   "id": "f8bc853e",
   "metadata": {},
   "outputs": [],
   "source": [
    "import os.path"
   ]
  },
  {
   "cell_type": "code",
   "execution_count": 26,
   "id": "f25e4fcd",
   "metadata": {},
   "outputs": [],
   "source": [
    "if os.path.isfile('models/potatoModel/potatoModel.h5') is False:\n",
    "    model.save('models/potatoModel/potatoModel.h5')"
   ]
  },
  {
   "cell_type": "code",
   "execution_count": 29,
   "id": "676a70b1",
   "metadata": {},
   "outputs": [],
   "source": [
    "from tensorflow.keras.models import load_model\n",
    "newModel=load_model('models/potatoModel/potatoModel.h5')"
   ]
  },
  {
   "cell_type": "code",
   "execution_count": 30,
   "id": "5b5270c4",
   "metadata": {},
   "outputs": [
    {
     "data": {
      "text/plain": [
       "<keras.engine.sequential.Sequential at 0xf403593a0>"
      ]
     },
     "execution_count": 30,
     "metadata": {},
     "output_type": "execute_result"
    }
   ],
   "source": [
    "newModel"
   ]
  },
  {
   "cell_type": "code",
   "execution_count": 31,
   "id": "84a6f534",
   "metadata": {},
   "outputs": [
    {
     "data": {
      "text/plain": [
       "<keras.engine.sequential.Sequential at 0xf04b38340>"
      ]
     },
     "execution_count": 31,
     "metadata": {},
     "output_type": "execute_result"
    }
   ],
   "source": [
    "model"
   ]
  },
  {
   "cell_type": "code",
   "execution_count": null,
   "id": "3d1e19ed",
   "metadata": {},
   "outputs": [],
   "source": []
  }
 ],
 "metadata": {
  "interpreter": {
   "hash": "5b61cb334c4f937f4549a0621b7b60b019c38e298f5c712eb1a4b35b8ac1681b"
  },
  "kernelspec": {
   "display_name": "Python 3.9.4 64-bit",
   "name": "python3"
  },
  "language_info": {
   "codemirror_mode": {
    "name": "ipython",
    "version": 3
   },
   "file_extension": ".py",
   "mimetype": "text/x-python",
   "name": "python",
   "nbconvert_exporter": "python",
   "pygments_lexer": "ipython3",
   "version": "3.9.4"
  }
 },
 "nbformat": 4,
 "nbformat_minor": 5
}
